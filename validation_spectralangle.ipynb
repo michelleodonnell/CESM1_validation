{
 "cells": [
  {
   "cell_type": "code",
   "execution_count": null,
   "id": "6c2e59dd",
   "metadata": {},
   "outputs": [],
   "source": [
    "# Calculate and plot spectral angle between two datasets\n",
    "# Here CESM and reanalysis that have alreayd had the monthly time series extracted and saved as a timeseries in a .txt file\n"
   ]
  },
  {
   "cell_type": "code",
   "execution_count": null,
   "id": "f425d2a7",
   "metadata": {},
   "outputs": [],
   "source": [
    "# HydroErr package has additional error metrics that may be useful for evaluating timing, rather than the focus on magnitude \n",
    "# https://hydroerr.readthedocs.io/en/latest/installation.html\n",
    "# see also Jackson et al Introductory overview: Error metrics for hydrologic modelling – A review of common practices and an open source library to facilitate use and adoption"
   ]
  },
  {
   "cell_type": "code",
   "execution_count": 1,
   "id": "387c9a64",
   "metadata": {},
   "outputs": [],
   "source": [
    "import HydroErr as he\n",
    "import numpy as np\n",
    "import pandas as pd\n",
    "import matplotlib.pyplot as plt\n",
    "import warnings; warnings.filterwarnings(action='ignore')\n",
    "import seaborn as sns\n",
    "from glob import glob\n",
    "import os\n",
    "import re\n",
    "from datetime import datetime"
   ]
  },
  {
   "cell_type": "code",
   "execution_count": 2,
   "id": "d739a301",
   "metadata": {},
   "outputs": [],
   "source": [
    "# Specify variable names, used in directory names and plotting\n",
    "chosen_var_CESM = 'QSNOMELT'\n",
    "chosen_var_reanalysis = 'smlt'\n",
    "var_for_plotting = 'Snowmelt'"
   ]
  },
  {
   "cell_type": "code",
   "execution_count": 3,
   "id": "9fa177ec",
   "metadata": {},
   "outputs": [],
   "source": [
    "# specify the directories that the datasets to be compared are saved in.\n",
    "dir= f'/Volumes/MCO_SSD/data/subbasin_data/CESM/{chosen_var_CESM}/grouped_subbasins/east_west/*.txt'\n",
    "dir2 = f'/Volumes/MCO_SSD/data/subbasin_data/CESM/{chosen_var_CESM}/*.txt'\n",
    "dir5 = f'/Volumes/MCO_SSD/data/subbasin_data/CESM/{chosen_var_CESM}/grouped_subbasins/entirebasin/*.txt'\n",
    "\n",
    "dir3 = f'/Volumes/MCO_SSD/data/subbasin_data/ERA5/{chosen_var_reanalysis}/CESM_grid/grouped_subbasins/east_west/*.txt'\n",
    "dir4 = f'/Volumes/MCO_SSD/data/subbasin_data/ERA5/{chosen_var_reanalysis}/CESM_grid/*.txt'\n",
    "dir6 = f'/Volumes/MCO_SSD/data/subbasin_data/ERA5/{chosen_var_reanalysis}/CESM_grid/grouped_subbasins/entirebasin/*.txt'\n"
   ]
  },
  {
   "cell_type": "code",
   "execution_count": 4,
   "id": "11207b83",
   "metadata": {},
   "outputs": [],
   "source": [
    "# get list of all files for the two categories of datasets. save each of these as a list to be used in setting up dfs\n",
    "dir_list = glob(dir, recursive=True)\n",
    "dir_list2 = glob(dir2, recursive=True)\n",
    "dir_list3 = glob(dir3, recursive=True)\n",
    "dir_list4 = glob(dir4, recursive=True)\n",
    "dir_list5 = glob(dir5, recursive=True)\n",
    "dir_list6 = glob(dir6, recursive=True)"
   ]
  },
  {
   "cell_type": "code",
   "execution_count": 5,
   "id": "2db892dc",
   "metadata": {},
   "outputs": [],
   "source": [
    "#Basin names\n",
    "# keep in this order, and add full basin at the end, because it determines the order of the plotting for the heatmap (based on index number here)\n",
    "\n",
    "#subbasin_list= ['Arkansas.White.Red.Region','Lower.Mississippi.Region', 'Missouri.Region','Ohio.Region','Tennessee.Region','Upper.Mississippi.Region','Eastern.Mississippi.Basin.Region', 'Western.Mississippi.Basin.Region', 'Entire.Mississippi.Region'] # Entire.Mississippi.Region\n",
    "#subbasin_list= ['Arkansas.White.Red.Region','Lower.Mississippi.Region', 'Missouri.Region','Ohio.Region','Tennessee.Region','Upper.Mississippi.Region']\n",
    "subbasin_list= ['Eastern.Mississippi.Basin.Region', 'Western.Mississippi.Basin.Region', 'Entire.Mississippi.Region']"
   ]
  },
  {
   "cell_type": "code",
   "execution_count": 6,
   "id": "1744c727",
   "metadata": {},
   "outputs": [
    {
     "name": "stdout",
     "output_type": "stream",
     "text": [
      "[]\n",
      "Eastern.Mississippi.Basin.Region\n",
      "['/Volumes/MCO_SSD/data/subbasin_data/CESM/QSNOMELT/grouped_subbasins/east_west/subbasin_monthly_avg_Eastern.Mississippi.Basin.Region_CESM_QSNOMELT.txt', '/Volumes/MCO_SSD/data/subbasin_data/ERA5/smlt/CESM_grid/grouped_subbasins/east_west/subbasin_monthly_avg_Eastern.Mississippi.Basin.Region_ERA5_smlt.txt']\n",
      "Western.Mississippi.Basin.Region\n",
      "['/Volumes/MCO_SSD/data/subbasin_data/CESM/QSNOMELT/grouped_subbasins/east_west/subbasin_monthly_avg_Western.Mississippi.Basin.Region_CESM_QSNOMELT.txt', '/Volumes/MCO_SSD/data/subbasin_data/ERA5/smlt/CESM_grid/grouped_subbasins/east_west/subbasin_monthly_avg_Western.Mississippi.Basin.Region_ERA5_smlt.txt']\n",
      "Entire.Mississippi.Region\n",
      "['/Volumes/MCO_SSD/data/subbasin_data/CESM/QSNOMELT/grouped_subbasins/entirebasin/subbasin_monthly_avg_Entire.Mississippi.Region_CESM_QSNOMELT.txt', '/Volumes/MCO_SSD/data/subbasin_data/ERA5/smlt/CESM_grid/grouped_subbasins/entirebasin/subbasin_monthly_avg_Entire.Mississippi.Region_ERA5_smlt.txt']\n"
     ]
    }
   ],
   "source": [
    "#Check files\n",
    "\n",
    "final_filtered_dir_list = []\n",
    "print(final_filtered_dir_list)\n",
    "for basin in subbasin_list:\n",
    "    print(basin)\n",
    "    filtered_dir_list = [x for x in dir_list if basin in x] \n",
    "    #print(filtered_dir_list)\n",
    "    filtered_dir_list_2 = [y for y in dir_list2 if basin in y] \n",
    "    #print(filtered_dir_list_2)\n",
    "    filtered_dir_list_3 = [z for z in dir_list3 if basin in z]\n",
    "    #print(filtered_dir_list_3)\n",
    "    filtered_dir_list_4 = [w for w in dir_list4 if basin in w]\n",
    "    filtered_dir_list_5 = [u for u in dir_list5 if basin in u]\n",
    "    filtered_dir_list_6 = [v for v in dir_list6 if basin in v]\n",
    "    final_filtered_dir_list = filtered_dir_list + filtered_dir_list_3 + filtered_dir_list_2 + filtered_dir_list_4 + filtered_dir_list_5 + filtered_dir_list_6\n",
    "\n",
    "    final_filtered_dir_list = final_filtered_dir_list\n",
    "    print(final_filtered_dir_list)"
   ]
  },
  {
   "cell_type": "code",
   "execution_count": 7,
   "id": "73af3a53",
   "metadata": {},
   "outputs": [],
   "source": [
    "# for basin in subbasin_list:\n",
    "#     print(basin)\n",
    "#     print(subbasin_list.index(basin))\n",
    "    \n",
    "# # seasons_list = [['Mar','Apr','May'],['Jun','Jul','Aug'],['Sep','Oct','Nov'],['Dec','Jan','Feb'],['Jan','Feb','Mar','Apr','May','Jun','Jul','Aug','Sep','Oct','Nov','Dec']] \n",
    "# # for season in seasons_list:\n",
    "# #     print(season)\n",
    "# #     print(seasons_list.index(season))"
   ]
  },
  {
   "cell_type": "code",
   "execution_count": 8,
   "id": "b63a96e7",
   "metadata": {},
   "outputs": [
    {
     "name": "stdout",
     "output_type": "stream",
     "text": [
      "Eastern.Mississippi.Basin.Region\n",
      "subbasin_monthly_avg_Eastern.Mississippi.Basin.Region_CESM_QSNOMELT.txt\n",
      "subbasin_monthly_avg_Eastern.Mississippi.Basin.Region_ERA5_smlt.txt\n",
      "Western.Mississippi.Basin.Region\n",
      "subbasin_monthly_avg_Western.Mississippi.Basin.Region_CESM_QSNOMELT.txt\n",
      "subbasin_monthly_avg_Western.Mississippi.Basin.Region_ERA5_smlt.txt\n",
      "Entire.Mississippi.Region\n",
      "subbasin_monthly_avg_Entire.Mississippi.Region_CESM_QSNOMELT.txt\n",
      "subbasin_monthly_avg_Entire.Mississippi.Region_ERA5_smlt.txt\n",
      "                              Basin  Basin_Number        SA\n",
      "0  Eastern.Mississippi.Basin.Region             0  0.733034\n",
      "1  Western.Mississippi.Basin.Region             1  0.483529\n",
      "2         Entire.Mississippi.Region             2  0.474055\n"
     ]
    }
   ],
   "source": [
    "# Setup dataframes for calculations and calculate spectral angle\n",
    "\n",
    "# initialize lists to be populated\n",
    "basin_list = []\n",
    "basin_number = []\n",
    "sa_number = []\n",
    "\n",
    "df = pd.DataFrame()\n",
    "df_2 = pd.DataFrame()\n",
    "\n",
    "i = 0\n",
    "\n",
    "# loop through basins\n",
    "for basin in subbasin_list:\n",
    "    print(basin)\n",
    "    basin_num = subbasin_list.index(basin)\n",
    "\n",
    "    # compile directory lists to access datasets\n",
    "    filtered_dir_list = [x for x in dir_list if basin in x] \n",
    "    filtered_dir_list_2 = [y for y in dir_list2 if basin in y] \n",
    "    filtered_dir_list_3 = [z for z in dir_list3 if basin in z]\n",
    "    filtered_dir_list_4 = [w for w in dir_list4 if basin in w]\n",
    "    filtered_dir_list_5 = [u for u in dir_list5 if basin in u]\n",
    "    filtered_dir_list_6 = [v for v in dir_list6 if basin in v]\n",
    "    final_filtered_dir_list = filtered_dir_list + filtered_dir_list_3 + filtered_dir_list_2 + filtered_dir_list_4 + filtered_dir_list_5 + filtered_dir_list_6\n",
    "\n",
    "    # setup basins names and directory paths\n",
    "    basin_name = basin\n",
    "    directory1 = final_filtered_dir_list[i]\n",
    "    directory2 = final_filtered_dir_list[i+1]\n",
    "    name1 = os.path.basename(directory1)\n",
    "    name2 = os.path.basename(directory2)\n",
    "    print(name1)\n",
    "    print(name2)\n",
    "    \n",
    "    # setup dataframe1  ## this could be updated to add any other datasets that will be plotted on the same y axis\n",
    "    df = pd.read_csv(directory1, sep=\" \", header = 0)\n",
    "    df['DATE'] = pd.to_datetime(df['DATE'])\n",
    "    df['DATE2'] = df['DATE'] # fix this. on the plane and don't remember the option to keep a column while setting it as index\n",
    "    df['month_txt'] = df['DATE'].dt.strftime(\"%b\")\n",
    "    df = df[(df['DATE'] >='1950-01-01') & (df['DATE'] <='2005-01-01')]\n",
    "    df = df.set_index('DATE')\n",
    "    #df['value'] = df['value']*(2629800) # CESM units are mm/s, so multiply by seconds in a month to convert to mm. Since time step is monthly, this converts to common time step of mm/month.\n",
    "\n",
    "      \n",
    "    # setup dataframe2\n",
    "    df_2 = pd.read_csv(directory2, sep=\" \", header = 0)\n",
    "    df_2['DATE'] = pd.to_datetime(df_2['DATE'])\n",
    "    df_2['DATE2'] = df_2['DATE']\n",
    "    df_2['month_txt'] = df_2['DATE'].dt.strftime(\"%b\")\n",
    "    df_2 = df_2[(df_2['DATE'] >='1950-01-01') & (df_2['DATE'] <='2005-01-01')]\n",
    "    df_2 = df_2.set_index('DATE')\n",
    "    #df_2['value'] = df_2['value']*(1000) # ERA5 units are m, so multiply by 1000 to convert to mm. Since time step is monthly, this converts to common time step of mm/month.\n",
    "\n",
    "    \n",
    "    #spectral angle\n",
    "    #Range: -π/2 ≤ SA < π/2, closer to 0 is better.\n",
    "    #Notes: The spectral angle metric measures the angle between the two vectors in hyperspace. It indicates how well the shape of the two series match – not magnitude.\n",
    "    sa = he.sa(df['value'],df_2['value'])\n",
    "    \n",
    "    # append values to lists for plotting\n",
    "    basin_list.append(basin)\n",
    "    basin_number.append(basin_num)\n",
    "    sa_number.append(sa)\n",
    "    \n",
    "    \n",
    "df_skill = pd.DataFrame({'Basin': basin_list, \n",
    "                         'Basin_Number':basin_number, \n",
    "                         'SA':sa_number}) #'Year': year_list, 'Spearman_Sig': pspear_list, 'Pearson_Sig': ppear_list, 'PBIAS': pbias_list, \n",
    "print(df_skill)        \n",
    "    "
   ]
  },
  {
   "cell_type": "code",
   "execution_count": 9,
   "id": "54f3fea7",
   "metadata": {},
   "outputs": [
    {
     "data": {
      "text/html": [
       "<div>\n",
       "<style scoped>\n",
       "    .dataframe tbody tr th:only-of-type {\n",
       "        vertical-align: middle;\n",
       "    }\n",
       "\n",
       "    .dataframe tbody tr th {\n",
       "        vertical-align: top;\n",
       "    }\n",
       "\n",
       "    .dataframe thead th {\n",
       "        text-align: right;\n",
       "    }\n",
       "</style>\n",
       "<table border=\"1\" class=\"dataframe\">\n",
       "  <thead>\n",
       "    <tr style=\"text-align: right;\">\n",
       "      <th></th>\n",
       "      <th>Basin</th>\n",
       "      <th>Basin_Number</th>\n",
       "      <th>SA</th>\n",
       "      <th>variable</th>\n",
       "    </tr>\n",
       "  </thead>\n",
       "  <tbody>\n",
       "    <tr>\n",
       "      <th>0</th>\n",
       "      <td>Eastern.Mississippi.Basin.Region</td>\n",
       "      <td>0</td>\n",
       "      <td>0.733034</td>\n",
       "      <td>Snowmelt</td>\n",
       "    </tr>\n",
       "    <tr>\n",
       "      <th>1</th>\n",
       "      <td>Western.Mississippi.Basin.Region</td>\n",
       "      <td>1</td>\n",
       "      <td>0.483529</td>\n",
       "      <td>Snowmelt</td>\n",
       "    </tr>\n",
       "    <tr>\n",
       "      <th>2</th>\n",
       "      <td>Entire.Mississippi.Region</td>\n",
       "      <td>2</td>\n",
       "      <td>0.474055</td>\n",
       "      <td>Snowmelt</td>\n",
       "    </tr>\n",
       "  </tbody>\n",
       "</table>\n",
       "</div>"
      ],
      "text/plain": [
       "                              Basin  Basin_Number        SA  variable\n",
       "0  Eastern.Mississippi.Basin.Region             0  0.733034  Snowmelt\n",
       "1  Western.Mississippi.Basin.Region             1  0.483529  Snowmelt\n",
       "2         Entire.Mississippi.Region             2  0.474055  Snowmelt"
      ]
     },
     "execution_count": 9,
     "metadata": {},
     "output_type": "execute_result"
    }
   ],
   "source": [
    "# Append variable name for plotting\n",
    "\n",
    "sub_lst = ['Eastern.Mississippi.Basin.Region', 'Western.Mississippi.Basin.Region', 'Entire.Mississippi.Region']\n",
    "df_skill_filtered = df_skill[df_skill['Basin'].str.contains('|'.join(sub_lst), na=False)]\n",
    "df_skill_filtered['variable'] = var_for_plotting\n",
    "df_skill_filtered\n"
   ]
  },
  {
   "cell_type": "code",
   "execution_count": 10,
   "id": "accc131a",
   "metadata": {},
   "outputs": [
    {
     "data": {
      "image/png": "[encoded data removed]",
      "text/plain": [
       "<Figure size 144x432 with 1 Axes>"
      ]
     },
     "metadata": {
      "needs_background": "light"
     },
     "output_type": "display_data"
    }
   ],
   "source": [
    "sns.set(style='white', rc={'axes.labelsize': 16, 'axes.titlesize': 18, 'font.size': 16, 'xtick.labelsize': 16, 'ytick.labelsize': 16})\n",
    "\n",
    "plt.figure(figsize=(2, 6))\n",
    "chart = sns.barplot(x = 'variable', y = 'SA', data = df_skill_filtered, palette = \"Paired\", hue = \"Basin\", edgecolor=None)\n",
    "#chart.set(title=\"Spectral Angle by Basin\")\n",
    "#chart.set_xticklabels(chart.get_xticklabels(), rotation=45, horizontalalignment='right')\n",
    "chart.set_ylim(0,1)\n",
    "#plt.legend(frameon=False, loc='center left', bbox_to_anchor=(1, 0.5))\n",
    "plt.legend().remove()\n",
    "\n",
    "# Show the plot\n",
    "plt.grid(True)\n",
    "plt.savefig(f'/Volumes/MCO_SSD/data/plots/validation_paper/SA_{chosen_var_CESM}.png', dpi=300, bbox_inches='tight')\n",
    "plt.show()"
   ]
  },
  {
   "cell_type": "code",
   "execution_count": null,
   "id": "458a8dc5",
   "metadata": {},
   "outputs": [],
   "source": []
  }
 ],
 "metadata": {
  "kernelspec": {
   "display_name": "hydroerr_env",
   "language": "python",
   "name": "hydroerr_env"
  },
  "language_info": {
   "codemirror_mode": {
    "name": "ipython",
    "version": 3
   },
   "file_extension": ".py",
   "mimetype": "text/x-python",
   "name": "python",
   "nbconvert_exporter": "python",
   "pygments_lexer": "ipython3",
   "version": "3.11.0"
  }
 },
 "nbformat": 4,
 "nbformat_minor": 5
}
